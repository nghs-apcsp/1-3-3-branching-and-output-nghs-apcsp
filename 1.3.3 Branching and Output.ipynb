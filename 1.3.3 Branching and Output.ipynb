{
 "cells": [
  {
   "cell_type": "markdown",
   "metadata": {},
   "source": [
    "# 1.3.3 Branching and Output\n",
    "## Introduction\n",
    "\n",
    "Computers can sometimes appear intelligent because they can make a decision. A program that lets you text from a mobile device might decide to autocorrect your text. A program to provide driving directions might decide you've gone the wrong way. All programming languages have a way to branch, executing one set of instructions or another, depending on a condition. \n",
    "\n",
    "How is this done in Python® programming language? And how can we get output from a program to know what the program has decided?\n",
    "\n",
    "\n",
    "In the previous activity, you learned that you can assign values to variables of different types. You learned that you can evaluate expressions and can define functions that return a value.\n",
    "```python\n",
    "In []: a = 3\n",
    "In []: a**2\n",
    "Out[]: 9\n",
    "```\n",
    "\n",
    "## Part 1: Conditionals\n",
    "\n",
    "As you saw in Scratch™ programming language, computer programs can use if structures to make decisions. In an if structure, what gets executed depends on whether a Boolean expression, also known as a conditional, is true.\n",
    "\n",
    "\n",
    "<img src=\"Boolean.png\">\n",
    "Here is what a boolean expression looks like in python\n",
    "```python\n",
    "In []: a == 3 # Boolean expression, also called a conditional\n",
    "Out[]: True\n",
    "```\n",
    "\n",
    "Note that the single = is used for assignment, while the double == is used to compare two expressions to see if they are equal. Other comparison operators that can be used to create a Boolean expression include >= (for ≥) and != (for ≠). \n",
    "\n",
    "You can make compound conditionals by connecting Boolean expressions \n",
    "with and, or, and not. In the following examples, remember that a is still 3.\n",
    "\n",
    "```python\n",
    "In []: a+1 >= 2 and a**2 != 5 # compound conditional\n",
    "Out[]: True\n",
    "```\n",
    "\n",
    "\tThe only two Boolean values are True and False.\n",
    "\n",
    "<mark>Predict, try, discuss, and explain the output of the cells below in comments. </mark>"
   ]
  },
  {
   "cell_type": "code",
   "execution_count": 1,
   "metadata": {
    "collapsed": true
   },
   "outputs": [],
   "source": [
    "a=3"
   ]
  },
  {
   "cell_type": "code",
   "execution_count": 3,
   "metadata": {},
   "outputs": [
    {
     "data": {
      "text/plain": [
       "True"
      ]
     },
     "execution_count": 3,
     "metadata": {},
     "output_type": "execute_result"
    }
   ],
   "source": [
    "#Prediction:\n",
    "a**2 >= 9 and not a>3 "
   ]
  },
  {
   "cell_type": "code",
   "execution_count": 5,
   "metadata": {},
   "outputs": [
    {
     "data": {
      "text/plain": [
       "True"
      ]
     },
     "execution_count": 5,
     "metadata": {},
     "output_type": "execute_result"
    }
   ],
   "source": [
    "# 3b. Prediction:\n",
    "a+2 == 5 or a-1 != 3 \n"
   ]
  },
  {
   "cell_type": "markdown",
   "metadata": {},
   "source": [
    "One situation where a programmer would use a compound conditional is when deciding whether a mouse click is within a certain region on the screen. For example, you might want your program to respond if a user clicks a rectangular shape, like a button or tab, as shown in the figure on the left. \n",
    "<img src=\"Mouse.png\">\n",
    "\n",
    "Creating a program that uses mouse input is part of Lesson 1.5. For now, we’ll just assign x and y arbitrary values—let’s say (65,40), using the assignment operator =. These coordinates are shown by the red dot in the figure above on the right.\n",
    "\n",
    "Unlike most languages, Python allows multiple assignment in a single line of code, as shown here:\n",
    "```python\n",
    "In []: x, y = (65, 40)\n",
    "In []: x\n",
    "Out[]: 65\n",
    "```\n",
    "You might have noticed that the positive y-axis points down in the figure above. Computer graphics usually number the pixel rows from 0 at the top left and increase down and to the right across the screen. \n",
    "\n",
    "The following expression is True when the red point (x, y) is in the blue area shown above. \n",
    "```python\n",
    "In []: 50<x and x<80 and 30<=y and y<=45\n",
    "Out[]: True\n",
    "\n",
    "```"
   ]
  },
  {
   "cell_type": "code",
   "execution_count": 5,
   "metadata": {},
   "outputs": [
    {
     "data": {
      "text/plain": [
       "True"
      ]
     },
     "execution_count": 5,
     "metadata": {},
     "output_type": "execute_result"
    }
   ],
   "source": [
    "x,y =(65,40)\n",
    "50<x and x<80 and 30<=y and y<=45"
   ]
  },
  {
   "cell_type": "markdown",
   "metadata": {},
   "source": [
    "Write a compound conditional to test whether (x, y) is in the rectangle shown in the figures below. The conditional should be False since (x, y) is still bound to the values (65,40) from before. \n",
    "<img src=\"Mouse2.png\">\n"
   ]
  },
  {
   "cell_type": "code",
   "execution_count": null,
   "metadata": {
    "collapsed": true
   },
   "outputs": [],
   "source": [
    "# Type your compound conditional here... it should output to False"
   ]
  },
  {
   "cell_type": "code",
   "execution_count": 7,
   "metadata": {},
   "outputs": [
    {
     "data": {
      "text/plain": [
       "'Assign (90,115) to the values x and y like it was done previously. Rerun your compound conditional test on the values of x and y. It should now output to True\\n'"
      ]
     },
     "execution_count": 7,
     "metadata": {},
     "output_type": "execute_result"
    }
   ],
   "source": [
    "'''Assign (90,115) to the values x and y like it was done previously. Rerun your compound conditional test on the values of x and y. It should now output to True\n",
    "'''\n"
   ]
  },
  {
   "cell_type": "markdown",
   "metadata": {},
   "source": [
    "## Part 2: if-else structures and the print()Function\n",
    "An if structure causes a program to execute a block of code only if a Boolean expression is True. \n",
    "\n",
    "Optionally, an else block can be included. The else block of code will be executed only if the Boolean expression was False.\n",
    "\n",
    "No matter whether the Boolean expression was True or False, the execution continues after the else block of the if–else structure. The function below illustrates the if–else structure. \n",
    "\n",
    "The function also shows the print() function, which will print its arguments on the screen. The text inside the single quotation marks is called a string of characters and will be printed as-is, without the quotes. \n",
    "\n"
   ]
  },
  {
   "cell_type": "code",
   "execution_count": 2,
   "metadata": {},
   "outputs": [
    {
     "name": "stdout",
     "output_type": "stream",
     "text": [
      "14 is old enough.\n",
      " Minimum age is  13\n"
     ]
    }
   ],
   "source": [
    "from __future__ import print_function # use Python 3.0 printing \n",
    "\n",
    "#Defining the function age_limit_output() that accepts one argument age\n",
    "def age_limit_output(age):\n",
    "    '''Step 6a if-else example'''\n",
    "    AGE_LIMIT = 13          # convention: use CAPS for constants\n",
    "    if age < AGE_LIMIT:\n",
    "        print(age, 'is below the age limit.')\n",
    "    else:\n",
    "        print(age, 'is old enough.')\n",
    "    print(' Minimum age is ', AGE_LIMIT) \n",
    "    \n",
    "#Calling the function age_limit_output() on the age 14    \n",
    "age_limit_output(14)"
   ]
  },
  {
   "cell_type": "markdown",
   "metadata": {},
   "source": [
    "The colons at the end of lines 3, 6, and 8 are required by def, if, and else key words. The indentation tells the Python interpreter which block of code belongs to that def, if, or else block. Just as Scratch grouped the code in if/else blocks, Python uses indentation to group code. Always use four spaces for each level of indentation. All such stylistic conventions can be found at http://www.python.org/dev/peps/pep-0008/#indentation\n",
    "<img src=\"Scratch.png\" alt=\"Drawing\" style=\"width: 200px;\"/>\n",
    "\n",
    "Call the function age_limit_output() with 10 and 16 in the cell below.\n",
    "age_limit_output(10)\n",
    "age_limit_output(16)"
   ]
  },
  {
   "cell_type": "code",
   "execution_count": 4,
   "metadata": {},
   "outputs": [
    {
     "name": "stdout",
     "output_type": "stream",
     "text": [
      "16 is old enough.\n",
      " Minimum age is  13\n"
     ]
    }
   ],
   "source": [
    "age_limit_output(16)"
   ]
  },
  {
   "cell_type": "markdown",
   "metadata": {},
   "source": [
    "Define a new function report_grade(percent) that reports mastery if the argument percent is 80 or more. You can write the function as an additional function in the same file of code as before. The beginning of the new code is shown in the following cell, and the required output is shown below. Pair program, strategizing first.\n",
    "\n",
    "```python\n",
    "In []: report_grade(79)\n",
    "A grade of 79 does not indicate mastery.\n",
    "Seek extra practice or help.\n",
    "In []: report_grade(85)\n",
    "A grade of 85 percent indicates mastery.\n",
    "Keep up the good work!\n",
    "```\n"
   ]
  },
  {
   "cell_type": "code",
   "execution_count": null,
   "metadata": {
    "collapsed": true
   },
   "outputs": [],
   "source": [
    "def report_grade(percent):\n",
    "    #The rest of your function goes here!"
   ]
  },
  {
   "cell_type": "markdown",
   "metadata": {},
   "source": [
    "## Part 3. The ``` in ``` operator and an introduction to collections\n",
    "The in operator can also be used to create a Boolean expression, like ==. The in operator will return True or False. You can use it to see if an element is in an iterable. Iterables are built out of zero or more elements and include strings as well as other variable types like tuples and lists that are the subject of the next activity. A string is an iterable that is made of elements that are characters.\n",
    "\n",
    "| Symbol Name       | Looks Like           | Iterable  |\n",
    "| ------------- |:-------------:| -----:|\n",
    "| Quotation marks    | 'letters' or \"spaces\" | string |\n",
    "| Parentheses   | (e1,e2,e3)      |   tuple |\n",
    "| Square brackets | [e1,e2,e3]      |   list |\n",
    "| Curly braces | {key1,value1, key2:value2}     |   dictionary |\n",
    "\n",
    "Examine the following examples using the in operator:\n",
    "\n",
    "```python\n",
    "In []:'t' in 'string' # includes lowercase t character\n",
    "Out[]: True\n",
    "In []:'T' in 'string' # case matters\n",
    "Out[]: False\n",
    "In []: 3 in [1,2,3] # this list contains the int 3\n",
    "Out[]: True\n",
    "In []:'3' in [1,2,3] # '3' is a string, different than 3\n",
    "Out[]: False\n",
    "```\n",
    "\n",
    "The following function  vowel(letter) returns True if the letter is 'a',  'e',  'i',  'o',  'u', or any of their uppercase counterparts and returns False otherwise. \n",
    "\n",
    "```python\n",
    "def vowel(letter):\n",
    "    vowels = 'aeiouAEIOU'\n",
    "    if letter in vowels:\n",
    "        return True\n",
    "    else:\n",
    "        return False\n",
    "# should check len(letter)==1\n",
    "```\n",
    "\n",
    "In the cell below, define a function letter_in_word(guess, word) that returns True if guess is a letter in word and returns False otherwise. \n",
    "a sample output\n",
    "\n",
    "```python\n",
    "In []: letter_in_word('t', 'secret hangman phrase')\n",
    "Out[]: True\n",
    "```"
   ]
  },
  {
   "cell_type": "code",
   "execution_count": null,
   "metadata": {
    "collapsed": true
   },
   "outputs": [],
   "source": [
    "#Create your letter_in_word() function here"
   ]
  },
  {
   "cell_type": "markdown",
   "metadata": {},
   "source": [
    "In MasterMind, one player has a secret sequence of colored pegs. Another player tries to guess the sequence. \n",
    "\n",
    "Define a function hint(color, secret) that takes two parameters: a string (representing a color) and a list of strings (representing a sequence of colors). The function should print a hint telling whether the color is in string.\n",
    "\n",
    "<img src=\"Mastermind.png\" alt=\"Drawing\" style=\"width: 150px;\"/>\n",
    "\n",
    "Sample Output\n",
    "\n",
    "```python\n",
    "In []: secret = ['red','red','yellow','yellow','black']\n",
    "In []: hint('red', secret)\n",
    "The color red IS in the secret sequence of colors.\n",
    "In []: hint('green', secret) \n",
    "The color green IS NOT in the secret sequence of colors.\n",
    "```"
   ]
  },
  {
   "cell_type": "code",
   "execution_count": null,
   "metadata": {
    "collapsed": true
   },
   "outputs": [],
   "source": [
    "#Create your mastermind function here\n"
   ]
  },
  {
   "cell_type": "markdown",
   "metadata": {},
   "source": [
    "## Conclusion (write your answer in this cell block directly)\n",
    "Describe the relationship between blocks of code indented after the colon in if , elif, and else blocks.\n",
    "\n",
    "There are many operators that can be used to create Boolean expressions. List the ones you have learned about and name one more that you learn about by searching for Boolean operators on the Internet.\n",
    "\n",
    "Steve and Latisha wrote this code: \n",
    "```python\n",
    "if check == 2:\n",
    "        print('Code complete.')\n",
    "    else:\n",
    "        print('Code complete.')\n",
    "        print('Not all systems are ready')\n",
    "```\n",
    "Ira, Jayla, and Kendra are all saying it would be better to move lines 22 and 24 to a single line executing print ('Code complete.') just before line 21. These three students have different reasons for their opinions. Their reasons are below. Do you think each of them is right, wrong, or somewhere in between? Explain.\n",
    "\n",
    "Ira: “It would be better to have a single print statement because that code is going to happen no matter what. The program will run slower by having it there twice.”\n",
    "\n",
    "Jayla: “It would be better to have a single print statement because that code is going to happen no matter what. Later, if you want to change your program, you’re going to have to remember to change it in two places the way the code is now.”\n",
    "\n",
    "Kendra: “It would be better to have a single print statement because it is going to happen no matter what. That program would take up less memory if you just wrote it once.”\n",
    "\n",
    "<b> Answer </b>"
   ]
  }
 ],
 "metadata": {
  "kernelspec": {
   "display_name": "Python 2",
   "language": "python",
   "name": "python2"
  },
  "language_info": {
   "codemirror_mode": {
    "name": "ipython",
    "version": 2
   },
   "file_extension": ".py",
   "mimetype": "text/x-python",
   "name": "python",
   "nbconvert_exporter": "python",
   "pygments_lexer": "ipython2",
   "version": "2.7.13"
  }
 },
 "nbformat": 4,
 "nbformat_minor": 1
}
